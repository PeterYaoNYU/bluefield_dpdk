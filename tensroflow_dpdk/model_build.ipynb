{
 "cells": [
  {
   "attachments": {},
   "cell_type": "markdown",
   "metadata": {},
   "source": [
    "import the necessary packages]"
   ]
  },
  {
   "cell_type": "code",
   "execution_count": 56,
   "metadata": {},
   "outputs": [],
   "source": [
    "import numpy as np\n",
    "import tensorflow as tf\n",
    "from tensorflow import keras"
   ]
  },
  {
   "cell_type": "code",
   "execution_count": 57,
   "metadata": {},
   "outputs": [],
   "source": [
    "from keras.models import Sequential\n",
    "from keras.layers import Dense\n",
    "from keras.layers import LSTM\n",
    "from sklearn.preprocessing import MinMaxScaler\n",
    "from sklearn.metrics import mean_squared_error\n",
    "import math\n",
    "import matplotlib.pyplot as plt\n"
   ]
  },
  {
   "cell_type": "code",
   "execution_count": 58,
   "metadata": {},
   "outputs": [
    {
     "name": "stdout",
     "output_type": "stream",
     "text": [
      "Python 3.8.10\n"
     ]
    }
   ],
   "source": [
    "!python3 --version"
   ]
  },
  {
   "cell_type": "code",
   "execution_count": 59,
   "metadata": {},
   "outputs": [],
   "source": [
    "dataset = np.array([15838159496439655, 15838159696040989, 15838159895702853, 15838160095368803, 15838160295031301, 15838160494695483, 15838160694375873, 15838160894041003, 15838161093704287, 15838161293376177, 15838161493039407, 15838161692702571, 15838161892384809, 15838162092047203, 15838162291709467, 15838162491381829, 15838162691046735, 15838162890709833, 15838163090389517, 15838163290052993, 15838163489717045, 15838163689396893, 15838163889060949, 15838164088724445, 15838164288404735, 15838164488068967, 15838164687732665, 15838164887412259, 15838165087077493, 15838165286740897, 15838165486421673, 15838165686087013, 15838165885748919, 15838166085412599, 15838166285073097, 15838166484736693, 15838166684397967, 15838166884062801, 15838167083724955, 15838167283387685, 15838167483048819, 15838167682712365, 15838167882374629, 15838168082036839, 15838168281701869, 15838168481363701, 15838168681026459, 15838168880693583, 15838169080357279, 15838169280019899, 15838169479684875, 15838169679346983, 15838169879010793, 15838170078675035, 15838170278339047, 15838170478004013, 15838170677667013, 15838170877330241, 15838171076995685, 15838171276660203, 15838171476323865, 15838171675987107, 15838171875669953, 15838172075334291, 15838172274998613, 15838172474678861, 15838172674344117, 15838172874005445, 15838173073679307, 15838173273341567, 15838173473006953, 15838173672670431, 15838173872344773, 15838174072009705, 15838174271677595, 15838174471360317, 15838174671023223, 15838174870688177, 15838175070359341, 15838175270023179, 15838175469687233, 15838175669359851, 15838175869023981, 15838176068686109, 15838176268366057, 15838176468029077, 15838176667693831, 15838176867368073, 15838177067031807, 15838177266694967, 15838177466357339, 15838177666018787, 15838177865682663, 15838178065344867, 15838178265006687, 15838178464666861, 15838178664331651, 15838178863997385, 15838179063660633, 15838179263322537])\n",
    "dataset = dataset * 0.00000001"
   ]
  },
  {
   "cell_type": "code",
   "execution_count": 60,
   "metadata": {},
   "outputs": [
    {
     "data": {
      "text/plain": [
       "array([1.58381595e+08, 1.58381597e+08])"
      ]
     },
     "execution_count": 60,
     "metadata": {},
     "output_type": "execute_result"
    }
   ],
   "source": [
    "dataset[0:2]"
   ]
  },
  {
   "cell_type": "code",
   "execution_count": 61,
   "metadata": {},
   "outputs": [
    {
     "data": {
      "text/plain": [
       "(158381594.96439657, 158381792.63322535, 197.66882878541946)"
      ]
     },
     "execution_count": 61,
     "metadata": {},
     "output_type": "execute_result"
    }
   ],
   "source": [
    "start = dataset[0]\n",
    "end = dataset[-1]\n",
    "interval = end - start\n",
    "start, end, interval\n"
   ]
  },
  {
   "cell_type": "code",
   "execution_count": 62,
   "metadata": {},
   "outputs": [
    {
     "data": {
      "text/plain": [
       "(0.0, 197.66882878541946)"
      ]
     },
     "execution_count": 62,
     "metadata": {},
     "output_type": "execute_result"
    }
   ],
   "source": [
    "dataset = dataset - start\n",
    "dataset[0], dataset[-1]"
   ]
  },
  {
   "cell_type": "code",
   "execution_count": 63,
   "metadata": {},
   "outputs": [
    {
     "data": {
      "text/plain": [
       "array([[0.        ],\n",
       "       [0.01009776],\n",
       "       [0.02019859],\n",
       "       [0.03029963],\n",
       "       [0.04040048],\n",
       "       [0.05050143],\n",
       "       [0.06060319],\n",
       "       [0.07070419],\n",
       "       [0.08080508],\n",
       "       [0.09090642],\n",
       "       [0.10100731],\n",
       "       [0.11110821],\n",
       "       [0.12121006],\n",
       "       [0.13131092],\n",
       "       [0.14141177],\n",
       "       [0.15151312],\n",
       "       [0.1616141 ],\n",
       "       [0.17171499],\n",
       "       [0.18181672],\n",
       "       [0.19191763],\n",
       "       [0.20201857],\n",
       "       [0.21212031],\n",
       "       [0.22222124],\n",
       "       [0.23232215],\n",
       "       [0.24242391],\n",
       "       [0.25252486],\n",
       "       [0.26262578],\n",
       "       [0.2727275 ],\n",
       "       [0.2828285 ],\n",
       "       [0.2929294 ],\n",
       "       [0.30303119],\n",
       "       [0.31313219],\n",
       "       [0.32323302],\n",
       "       [0.33333394],\n",
       "       [0.3434347 ],\n",
       "       [0.35353561],\n",
       "       [0.36363641],\n",
       "       [0.37373739],\n",
       "       [0.38383823],\n",
       "       [0.3939391 ],\n",
       "       [0.40403989],\n",
       "       [0.4141408 ],\n",
       "       [0.42424165],\n",
       "       [0.43434249],\n",
       "       [0.44444348],\n",
       "       [0.45454431],\n",
       "       [0.46464518],\n",
       "       [0.47474627],\n",
       "       [0.48484719],\n",
       "       [0.49494806],\n",
       "       [0.50504904],\n",
       "       [0.51514988],\n",
       "       [0.5252508 ],\n",
       "       [0.53535175],\n",
       "       [0.54545269],\n",
       "       [0.55555367],\n",
       "       [0.56565456],\n",
       "       [0.57575545],\n",
       "       [0.58585646],\n",
       "       [0.59595742],\n",
       "       [0.60605834],\n",
       "       [0.61615924],\n",
       "       [0.62626112],\n",
       "       [0.63636208],\n",
       "       [0.64646303],\n",
       "       [0.65656478],\n",
       "       [0.66666578],\n",
       "       [0.67676658],\n",
       "       [0.68686802],\n",
       "       [0.69696886],\n",
       "       [0.70706987],\n",
       "       [0.71717078],\n",
       "       [0.72727224],\n",
       "       [0.73737322],\n",
       "       [0.74747435],\n",
       "       [0.75757623],\n",
       "       [0.76767711],\n",
       "       [0.7777781 ],\n",
       "       [0.78787939],\n",
       "       [0.79798032],\n",
       "       [0.80808126],\n",
       "       [0.81818263],\n",
       "       [0.82828357],\n",
       "       [0.83838441],\n",
       "       [0.84848615],\n",
       "       [0.85858704],\n",
       "       [0.86868801],\n",
       "       [0.87878946],\n",
       "       [0.88889039],\n",
       "       [0.89899128],\n",
       "       [0.90909213],\n",
       "       [0.91919294],\n",
       "       [0.92929387],\n",
       "       [0.93939471],\n",
       "       [0.94949553],\n",
       "       [0.95959628],\n",
       "       [0.96969725],\n",
       "       [0.97979827],\n",
       "       [0.98989917],\n",
       "       [1.        ]])"
      ]
     },
     "execution_count": 63,
     "metadata": {},
     "output_type": "execute_result"
    }
   ],
   "source": [
    "scaler = MinMaxScaler(feature_range=(0, 1))\n",
    "dataset = dataset.reshape(-1,1)\n",
    "dataset = scaler.fit_transform(dataset)\n",
    "dataset"
   ]
  },
  {
   "cell_type": "code",
   "execution_count": 64,
   "metadata": {},
   "outputs": [],
   "source": [
    "look_back = 50\n",
    "# convert an array of values into a dataset matrix\n",
    "def create_dataset(dataset, look_back=1):\n",
    "    dataX, dataY = [], []\n",
    "    for i in range(len(dataset)-look_back-1):\n",
    "        a = dataset[i:(i+look_back), 0]\n",
    "        dataX.append(a)\n",
    "        dataY.append(dataset[i + look_back, 0])\n",
    "    return np.array(dataX), np.array(dataY)"
   ]
  },
  {
   "cell_type": "code",
   "execution_count": 65,
   "metadata": {},
   "outputs": [],
   "source": [
    "trainX, trainY = create_dataset(dataset=dataset, look_back=look_back)"
   ]
  },
  {
   "cell_type": "code",
   "execution_count": 66,
   "metadata": {},
   "outputs": [
    {
     "data": {
      "text/plain": [
       "(array([[0.        , 0.01009776, 0.02019859, 0.03029963, 0.04040048,\n",
       "         0.05050143, 0.06060319, 0.07070419, 0.08080508, 0.09090642,\n",
       "         0.10100731, 0.11110821, 0.12121006, 0.13131092, 0.14141177,\n",
       "         0.15151312, 0.1616141 , 0.17171499, 0.18181672, 0.19191763,\n",
       "         0.20201857, 0.21212031, 0.22222124, 0.23232215, 0.24242391,\n",
       "         0.25252486, 0.26262578, 0.2727275 , 0.2828285 , 0.2929294 ,\n",
       "         0.30303119, 0.31313219, 0.32323302, 0.33333394, 0.3434347 ,\n",
       "         0.35353561, 0.36363641, 0.37373739, 0.38383823, 0.3939391 ,\n",
       "         0.40403989, 0.4141408 , 0.42424165, 0.43434249, 0.44444348,\n",
       "         0.45454431, 0.46464518, 0.47474627, 0.48484719, 0.49494806],\n",
       "        [0.01009776, 0.02019859, 0.03029963, 0.04040048, 0.05050143,\n",
       "         0.06060319, 0.07070419, 0.08080508, 0.09090642, 0.10100731,\n",
       "         0.11110821, 0.12121006, 0.13131092, 0.14141177, 0.15151312,\n",
       "         0.1616141 , 0.17171499, 0.18181672, 0.19191763, 0.20201857,\n",
       "         0.21212031, 0.22222124, 0.23232215, 0.24242391, 0.25252486,\n",
       "         0.26262578, 0.2727275 , 0.2828285 , 0.2929294 , 0.30303119,\n",
       "         0.31313219, 0.32323302, 0.33333394, 0.3434347 , 0.35353561,\n",
       "         0.36363641, 0.37373739, 0.38383823, 0.3939391 , 0.40403989,\n",
       "         0.4141408 , 0.42424165, 0.43434249, 0.44444348, 0.45454431,\n",
       "         0.46464518, 0.47474627, 0.48484719, 0.49494806, 0.50504904]]),\n",
       " array([0.50504904, 0.51514988]))"
      ]
     },
     "execution_count": 66,
     "metadata": {},
     "output_type": "execute_result"
    }
   ],
   "source": [
    "trainX[:2],trainY[:2]"
   ]
  },
  {
   "cell_type": "code",
   "execution_count": 67,
   "metadata": {},
   "outputs": [],
   "source": [
    "trainX = np.reshape(trainX, (trainX.shape[0], 1, trainX.shape[1]))"
   ]
  },
  {
   "cell_type": "code",
   "execution_count": 68,
   "metadata": {},
   "outputs": [
    {
     "data": {
      "text/plain": [
       "array([[[0.        , 0.01009776, 0.02019859, ..., 0.47474627,\n",
       "         0.48484719, 0.49494806]],\n",
       "\n",
       "       [[0.01009776, 0.02019859, 0.03029963, ..., 0.48484719,\n",
       "         0.49494806, 0.50504904]],\n",
       "\n",
       "       [[0.02019859, 0.03029963, 0.04040048, ..., 0.49494806,\n",
       "         0.50504904, 0.51514988]],\n",
       "\n",
       "       ...,\n",
       "\n",
       "       [[0.46464518, 0.47474627, 0.48484719, ..., 0.93939471,\n",
       "         0.94949553, 0.95959628]],\n",
       "\n",
       "       [[0.47474627, 0.48484719, 0.49494806, ..., 0.94949553,\n",
       "         0.95959628, 0.96969725]],\n",
       "\n",
       "       [[0.48484719, 0.49494806, 0.50504904, ..., 0.95959628,\n",
       "         0.96969725, 0.97979827]]])"
      ]
     },
     "execution_count": 68,
     "metadata": {},
     "output_type": "execute_result"
    }
   ],
   "source": [
    "trainX"
   ]
  },
  {
   "cell_type": "code",
   "execution_count": 69,
   "metadata": {},
   "outputs": [
    {
     "data": {
      "text/plain": [
       "array([0.50504904, 0.51514988, 0.5252508 , 0.53535175, 0.54545269,\n",
       "       0.55555367, 0.56565456, 0.57575545, 0.58585646, 0.59595742,\n",
       "       0.60605834, 0.61615924, 0.62626112, 0.63636208, 0.64646303,\n",
       "       0.65656478, 0.66666578, 0.67676658, 0.68686802, 0.69696886,\n",
       "       0.70706987, 0.71717078, 0.72727224, 0.73737322, 0.74747435,\n",
       "       0.75757623, 0.76767711, 0.7777781 , 0.78787939, 0.79798032,\n",
       "       0.80808126, 0.81818263, 0.82828357, 0.83838441, 0.84848615,\n",
       "       0.85858704, 0.86868801, 0.87878946, 0.88889039, 0.89899128,\n",
       "       0.90909213, 0.91919294, 0.92929387, 0.93939471, 0.94949553,\n",
       "       0.95959628, 0.96969725, 0.97979827, 0.98989917])"
      ]
     },
     "execution_count": 69,
     "metadata": {},
     "output_type": "execute_result"
    }
   ],
   "source": [
    "trainY"
   ]
  },
  {
   "cell_type": "code",
   "execution_count": 70,
   "metadata": {},
   "outputs": [
    {
     "name": "stdout",
     "output_type": "stream",
     "text": [
      "Epoch 1/10\n",
      "49/49 - 1s - loss: 0.1017 - accuracy: 0.0000e+00 - 1s/epoch - 26ms/step\n",
      "Epoch 2/10\n",
      "49/49 - 0s - loss: 4.7610e-04 - accuracy: 0.0000e+00 - 73ms/epoch - 1ms/step\n",
      "Epoch 3/10\n",
      "49/49 - 0s - loss: 2.9190e-04 - accuracy: 0.0000e+00 - 66ms/epoch - 1ms/step\n",
      "Epoch 4/10\n",
      "49/49 - 0s - loss: 2.7220e-04 - accuracy: 0.0000e+00 - 68ms/epoch - 1ms/step\n",
      "Epoch 5/10\n",
      "49/49 - 0s - loss: 2.4419e-04 - accuracy: 0.0000e+00 - 66ms/epoch - 1ms/step\n",
      "Epoch 6/10\n",
      "49/49 - 0s - loss: 2.2972e-04 - accuracy: 0.0000e+00 - 68ms/epoch - 1ms/step\n",
      "Epoch 7/10\n",
      "49/49 - 0s - loss: 2.3325e-04 - accuracy: 0.0000e+00 - 65ms/epoch - 1ms/step\n",
      "Epoch 8/10\n",
      "49/49 - 0s - loss: 2.1694e-04 - accuracy: 0.0000e+00 - 64ms/epoch - 1ms/step\n",
      "Epoch 9/10\n",
      "49/49 - 0s - loss: 1.8739e-04 - accuracy: 0.0000e+00 - 67ms/epoch - 1ms/step\n",
      "Epoch 10/10\n",
      "49/49 - 0s - loss: 2.0217e-04 - accuracy: 0.0000e+00 - 64ms/epoch - 1ms/step\n"
     ]
    },
    {
     "data": {
      "text/plain": [
       "<keras.src.callbacks.History at 0x7f0b74465700>"
      ]
     },
     "execution_count": 70,
     "metadata": {},
     "output_type": "execute_result"
    }
   ],
   "source": [
    "# create and fit the LSTM network\n",
    "model = Sequential()\n",
    "model.add(LSTM(4, input_shape=(1, look_back)))\n",
    "model.add(Dense(1))\n",
    "model.compile(loss='mean_squared_error', optimizer='adam', metrics=['accuracy'])\n",
    "model.fit(trainX, trainY, epochs=10, batch_size=1, verbose=2)"
   ]
  },
  {
   "cell_type": "code",
   "execution_count": 71,
   "metadata": {},
   "outputs": [
    {
     "data": {
      "text/plain": [
       "<keras.src.engine.sequential.Sequential at 0x7f0b7407da00>"
      ]
     },
     "execution_count": 71,
     "metadata": {},
     "output_type": "execute_result"
    }
   ],
   "source": [
    "inference_model = tf.keras.models.clone_model(model)\n",
    "inference_model"
   ]
  },
  {
   "cell_type": "code",
   "execution_count": 72,
   "metadata": {},
   "outputs": [
    {
     "name": "stdout",
     "output_type": "stream",
     "text": [
      "2/2 [==============================] - 0s 3ms/step\n",
      "Train Score: 2.61 RMSE\n"
     ]
    }
   ],
   "source": [
    "trainPredict = model.predict(trainX)\n",
    "trainPredict = scaler.inverse_transform(trainPredict)\n",
    "trainY = scaler.inverse_transform([trainY])\n",
    "trainScore = math.sqrt(mean_squared_error(trainY[0], trainPredict[:,0]))\n",
    "print('Train Score: %.2f RMSE' % (trainScore))"
   ]
  }
 ],
 "metadata": {
  "kernelspec": {
   "display_name": "Python 3",
   "language": "python",
   "name": "python3"
  },
  "language_info": {
   "codemirror_mode": {
    "name": "ipython",
    "version": 3
   },
   "file_extension": ".py",
   "mimetype": "text/x-python",
   "name": "python",
   "nbconvert_exporter": "python",
   "pygments_lexer": "ipython3",
   "version": "3.8.10"
  },
  "orig_nbformat": 4
 },
 "nbformat": 4,
 "nbformat_minor": 2
}
